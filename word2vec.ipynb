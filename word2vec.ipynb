{
  "cells": [
    {
      "cell_type": "markdown",
      "metadata": {
        "id": "view-in-github",
        "colab_type": "text"
      },
      "source": [
        "<a href=\"https://colab.research.google.com/github/tyronen/recurrent-rebels/blob/main/word2vec.ipynb\" target=\"_parent\"><img src=\"https://colab.research.google.com/assets/colab-badge.svg\" alt=\"Open In Colab\"/></a>"
      ]
    },
    {
      "cell_type": "markdown",
      "source": [
        "# Recurrent Rebels"
      ],
      "metadata": {
        "id": "143G2xJFDW9B"
      }
    },
    {
      "cell_type": "markdown",
      "source": [
        "You should use GPU on this script. Choose Edit, Notebook Settings, and T4 GPU under Hardware Acceleration."
      ],
      "metadata": {
        "id": "QR4nciOQxYLc"
      }
    },
    {
      "metadata": {
        "id": "_lZrCZa6xJAb",
        "outputId": "2d7a2ef0-7826-432d-fc9a-f1f74e941217",
        "colab": {
          "base_uri": "https://localhost:8080/"
        }
      },
      "cell_type": "code",
      "outputs": [
        {
          "output_type": "stream",
          "name": "stdout",
          "text": [
            "Cloning into 'recurrent-rebels'...\n",
            "remote: Enumerating objects: 47, done.\u001b[K\n",
            "remote: Counting objects: 100% (47/47), done.\u001b[K\n",
            "remote: Compressing objects: 100% (35/35), done.\u001b[K\n",
            "remote: Total 47 (delta 21), reused 32 (delta 12), pack-reused 0 (from 0)\u001b[K\n",
            "Receiving objects: 100% (47/47), 33.53 MiB | 18.67 MiB/s, done.\n",
            "Resolving deltas: 100% (21/21), done.\n"
          ]
        }
      ],
      "execution_count": 3,
      "source": [
        "!git clone https://github.com/tyronen/recurrent-rebels.git"
      ]
    },
    {
      "cell_type": "code",
      "source": [
        "%cd recurrent-rebels"
      ],
      "metadata": {
        "id": "9ZSmQqwxxQ2g",
        "outputId": "bd5fa864-171c-4f5b-94f0-ce9a3f5145c4",
        "colab": {
          "base_uri": "https://localhost:8080/"
        }
      },
      "execution_count": 4,
      "outputs": [
        {
          "output_type": "stream",
          "name": "stdout",
          "text": [
            "/content/recurrent-rebels\n"
          ]
        }
      ]
    },
    {
      "cell_type": "code",
      "source": [
        "!python word2vec.py"
      ],
      "metadata": {
        "id": "BGCHYh9zxmF4",
        "outputId": "6156537e-c822-47c1-fc68-d7d438b9ca63",
        "colab": {
          "base_uri": "https://localhost:8080/"
        }
      },
      "execution_count": null,
      "outputs": [
        {
          "output_type": "stream",
          "name": "stdout",
          "text": [
            "12:18:53 Using device: cuda\n",
            "12:18:57 Vocab size: 47134\n",
            "12:19:33 Dataset size: 16561021\n",
            "12:19:54 Epoch 1, Step 1000, Loss: 11.8132\n",
            "12:20:07 Epoch 1, Step 2000, Loss: 4.0519\n",
            "12:20:19 Epoch 1, Step 3000, Loss: 2.7417\n",
            "12:20:36 Epoch 1, Step 4000, Loss: 2.6804\n",
            "12:20:49 Epoch 1, Step 5000, Loss: 2.4583\n",
            "12:21:01 Epoch 1, Step 6000, Loss: 2.6354\n",
            "12:21:14 Epoch 1, Step 7000, Loss: 2.3685\n",
            "12:21:26 Epoch 1, Step 8000, Loss: 2.1883\n",
            "12:21:39 Epoch 1, Step 9000, Loss: 2.2125\n",
            "12:21:51 Epoch 1, Step 10000, Loss: 2.2186\n",
            "12:22:04 Epoch 1, Step 11000, Loss: 2.1249\n",
            "12:22:17 Epoch 1, Step 12000, Loss: 1.9822\n",
            "12:22:29 Epoch 1, Step 13000, Loss: 2.1155\n",
            "12:22:42 Epoch 1, Step 14000, Loss: 1.8237\n",
            "12:22:54 Epoch 1, Step 15000, Loss: 1.7855\n"
          ]
        }
      ]
    },
    {
      "cell_type": "code",
      "source": [],
      "metadata": {
        "id": "MZvZaplhxqg2"
      },
      "execution_count": null,
      "outputs": []
    }
  ],
  "metadata": {
    "colab": {
      "name": "Welcome To Colab",
      "toc_visible": true,
      "provenance": [],
      "gpuType": "T4",
      "include_colab_link": true
    },
    "kernelspec": {
      "display_name": "Python 3",
      "name": "python3"
    },
    "accelerator": "GPU"
  },
  "nbformat": 4,
  "nbformat_minor": 0
}