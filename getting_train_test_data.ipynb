{
 "cells": [
  {
   "cell_type": "code",
   "execution_count": 5,
   "id": "10386e9e",
   "metadata": {},
   "outputs": [],
   "source": [
    "from sqlalchemy import create_engine\n",
    "import pandas as pd\n",
    "import matplotlib.pyplot as plt\n",
    "from wordcloud import WordCloud\n",
    "from collections import Counter\n",
    "import unicodedata\n",
    "import math\n",
    "import os\n",
    "import matplotlib.patches as mpatches\n",
    "import numpy as np\n",
    "import matplotlib.pyplot as plt\n",
    "from sqlalchemy import text\n",
    "from tqdm import tqdm\n",
    "from collections import Counter\n",
    "import unicodedata\n",
    "import re\n",
    "import torch\n",
    "from torch.utils.data import Dataset, DataLoader"
   ]
  },
  {
   "cell_type": "code",
   "execution_count": 2,
   "id": "5323f60d",
   "metadata": {},
   "outputs": [],
   "source": [
    "user = \"sy91dhb\"\n",
    "password = \"g5t49ao\"\n",
    "host = \"178.156.142.230\"\n",
    "port = \"5432\"\n",
    "db = \"hd64m1ki\"\n",
    "\n",
    "engine = create_engine(f\"postgresql+psycopg2://{user}:{password}@{host}:{port}/{db}\")"
   ]
  },
  {
   "cell_type": "code",
   "execution_count": 3,
   "id": "b749c847",
   "metadata": {},
   "outputs": [],
   "source": [
    "query = \"SELECT id, title, url, by, time, text, score FROM hacker_news.items WHERE type='story' AND dead IS NULL\"\n",
    "df = pd.read_sql(query, engine)"
   ]
  },
  {
   "cell_type": "code",
   "execution_count": 4,
   "id": "9bbdbe87",
   "metadata": {},
   "outputs": [],
   "source": [
    "df.to_parquet(\"hackernews_stories.parquet\")"
   ]
  },
  {
   "cell_type": "code",
   "execution_count": 6,
   "id": "fdad4cd6",
   "metadata": {},
   "outputs": [],
   "source": [
    "class HackerNewsDataset(Dataset):\n",
    "    def __init__(self, dataframe):\n",
    "        self.df = dataframe.reset_index(drop=True)\n",
    "\n",
    "    def __len__(self):\n",
    "        return len(self.df)\n",
    "\n",
    "    def __getitem__(self, idx):\n",
    "        row = self.df.iloc[idx]\n",
    "        # Example: return title, score as tensor, and author\n",
    "        # You can customize this as needed\n",
    "        title = row['title']\n",
    "        score = torch.tensor(row['score'], dtype=torch.float32)\n",
    "        author = row['by']\n",
    "        return {\"title\": title, \"score\": score, \"author\": author}\n",
    "\n",
    "# Example usage:\n",
    "hn_dataset = HackerNewsDataset(df)\n",
    "hn_loader = DataLoader(hn_dataset, batch_size=32, shuffle=True)"
   ]
  },
  {
   "cell_type": "code",
   "execution_count": 7,
   "id": "6fc8dfec",
   "metadata": {},
   "outputs": [],
   "source": [
    "# Sort the dataframe by time\n",
    "df_sorted = df.sort_values('time')\n",
    "\n",
    "# Calculate the split index\n",
    "split_idx = int(len(df_sorted) * 0.8)\n",
    "\n",
    "# Split into train and test\n",
    "df_train = df_sorted.iloc[:split_idx].reset_index(drop=True)\n",
    "df_test = df_sorted.iloc[split_idx:].reset_index(drop=True)\n",
    "\n",
    "# Create datasets\n",
    "hn_train = HackerNewsDataset(df_train)\n",
    "hn_test = HackerNewsDataset(df_test)"
   ]
  },
  {
   "cell_type": "code",
   "execution_count": null,
   "id": "6109be79",
   "metadata": {},
   "outputs": [],
   "source": []
  }
 ],
 "metadata": {
  "kernelspec": {
   "display_name": "ml",
   "language": "python",
   "name": "python3"
  },
  "language_info": {
   "codemirror_mode": {
    "name": "ipython",
    "version": 3
   },
   "file_extension": ".py",
   "mimetype": "text/x-python",
   "name": "python",
   "nbconvert_exporter": "python",
   "pygments_lexer": "ipython3",
   "version": "3.11.9"
  }
 },
 "nbformat": 4,
 "nbformat_minor": 5
}
