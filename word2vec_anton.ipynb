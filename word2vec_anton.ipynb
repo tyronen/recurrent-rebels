{
  "cells": [
    {
      "cell_type": "code",
      "execution_count": 1,
      "id": "cdfe6fc3",
      "metadata": {
        "id": "cdfe6fc3"
      },
      "outputs": [],
      "source": [
        "!pip install --quiet huggingface_hub"
      ]
    },
    {
      "cell_type": "code",
      "execution_count": 68,
      "id": "0680f4e9",
      "metadata": {
        "id": "0680f4e9"
      },
      "outputs": [],
      "source": [
        "import torch\n",
        "import torch.nn as nn\n",
        "import torch.utils.data as data\n",
        "from torch.utils.data import Dataset, DataLoader\n",
        "import torch.optim as optim\n",
        "from tqdm.notebook import tqdm\n",
        "from collections import Counter\n",
        "import huggingface_hub\n",
        "import os\n",
        "import warnings\n",
        "import time"
      ]
    },
    {
      "cell_type": "code",
      "execution_count": null,
      "id": "5cef6344",
      "metadata": {
        "colab": {
          "referenced_widgets": [
            "421ce2c7d68445648f1e157ce9eb0596"
          ]
        },
        "id": "5cef6344",
        "outputId": "c5f37dc1-f809-412d-f2ec-40f3984b41a1"
      },
      "outputs": [
        {
          "data": {
            "application/vnd.jupyter.widget-view+json": {
              "model_id": "421ce2c7d68445648f1e157ce9eb0596",
              "version_major": 2,
              "version_minor": 0
            },
            "text/plain": [
              "VBox(children=(HTML(value='<center> <img\\nsrc=https://huggingface.co/front/assets/huggingface_logo-noborder.sv…"
            ]
          },
          "metadata": {},
          "output_type": "display_data"
        }
      ],
      "source": [
        "# Login is optional for public models\n",
        "# huggingface_hub.login()"
      ]
    },
    {
      "cell_type": "code",
      "execution_count": 69,
      "id": "fba384b6",
      "metadata": {
        "colab": {
          "base_uri": "https://localhost:8080/",
          "height": 191,
          "referenced_widgets": [
            "0e3e6c3ad730429caf6cb646a1e00704",
            "7b4c901838d84fd689c6f6d74c487b61",
            "9c5518e72262453e91b2239074b594a4",
            "13acc1a7475d41d1b3ec3526c9fa0058",
            "d9e18e840ec74f88b1cdc042116e2e27",
            "2df17dd593a44db1ade6ea70d307a806",
            "e74644fd4df04c698c346b3d72a9db2f",
            "d5b9b118033e49de86e75ebc186b87c1",
            "8a8660462e04445e8be5a9d91ed12d57",
            "5c740ada165847bb922d42baba033dd4",
            "2d92be52907442e89bc2efbaf37c2ce6"
          ]
        },
        "id": "fba384b6",
        "outputId": "ac47fd87-0e39-4546-c2c6-8d62779451a9"
      },
      "outputs": [
        {
          "name": "stdout",
          "output_type": "stream",
          "text": [
            "File downloaded to: text8\n"
          ]
        }
      ],
      "source": [
        "with warnings.catch_warnings():\n",
        "    warnings.simplefilter(\"ignore\")  # Ignore warning to create a token\n",
        "    corpus_file_path = huggingface_hub.hf_hub_download(\n",
        "        repo_id=\"ardMLX/text8\",\n",
        "        filename=\"text8\",\n",
        "        repo_type=\"dataset\",\n",
        "        local_dir=\".\"\n",
        "    )\n",
        "\n",
        "print(f\"File downloaded to: {corpus_file_path}\")"
      ]
    },
    {
      "cell_type": "code",
      "execution_count": 4,
      "id": "9ef49ad5",
      "metadata": {
        "colab": {
          "base_uri": "https://localhost:8080/"
        },
        "id": "9ef49ad5",
        "outputId": "d9a494d1-0983-4506-99bf-9da31fe6ba51"
      },
      "outputs": [
        {
          "name": "stdout",
          "output_type": "stream",
          "text": [
            "Device: cuda\n"
          ]
        }
      ],
      "source": [
        "if torch.backends.mps.is_available():\n",
        "    device = torch.device(\"mps\")\n",
        "elif torch.cuda.is_available():\n",
        "    device = torch.device(\"cuda\")\n",
        "else:\n",
        "    device = torch.device(\"cpu\")\n",
        "\n",
        "print(\"Device:\", device)"
      ]
    },
    {
      "cell_type": "code",
      "execution_count": 5,
      "id": "ae761d87",
      "metadata": {
        "id": "ae761d87"
      },
      "outputs": [],
      "source": [
        "def tokenize(text):\n",
        "    return text.lower().split()\n",
        "\n",
        "# TODO Use torchtext.vocab.build_vocab_from_iterator\n",
        "def build_vocab(tokens, min_freq=1):\n",
        "    counter = Counter(tokens)\n",
        "    vocab = {word: idx for idx, (word, freq) in enumerate(counter.items()) if freq >= min_freq}\n",
        "    word2idx = {word: i for i, word in enumerate(vocab)}\n",
        "    idx2word = {i: word for word, i in word2idx.items()}\n",
        "    return word2idx, idx2word"
      ]
    },
    {
      "cell_type": "markdown",
      "id": "164eafbd",
      "metadata": {
        "id": "164eafbd"
      },
      "source": [
        "## CBOW"
      ]
    },
    {
      "cell_type": "code",
      "execution_count": 6,
      "id": "d2a34d31",
      "metadata": {
        "id": "d2a34d31"
      },
      "outputs": [],
      "source": [
        "class CBOW(nn.Module):\n",
        "    def __init__(self, vocab_size, embedding_dim):\n",
        "        super().__init__()\n",
        "        # TODO Do we have to do max norm here?\n",
        "        self.embeddings = nn.Embedding(vocab_size, embedding_dim, max_norm=1.0)\n",
        "        self.linear = nn.Linear(embedding_dim, vocab_size)\n",
        "\n",
        "    def forward(self, inputs):\n",
        "        x = self.embeddings(inputs)\n",
        "        x = x.mean(dim=1)\n",
        "        x = self.linear(x)\n",
        "        return x"
      ]
    },
    {
      "cell_type": "code",
      "execution_count": 7,
      "id": "21973881",
      "metadata": {
        "id": "21973881"
      },
      "outputs": [],
      "source": [
        "class CBOWDataset(Dataset):\n",
        "    def __init__(self, tokens, word2idx, context_size=2):\n",
        "        self.data = []\n",
        "        self.word2idx = word2idx\n",
        "        self.context_size = context_size\n",
        "        self.vocab_size = len(word2idx)\n",
        "\n",
        "        indices = [word2idx[word] for word in tokens if word in word2idx]\n",
        "        # TODO add tqdm progress\n",
        "        for i in range(context_size, len(indices) - context_size):\n",
        "            context = (\n",
        "                indices[i - context_size:i] + indices[i + 1:i + context_size + 1]\n",
        "            )\n",
        "            target = indices[i]\n",
        "            self.data.append((context, target))\n",
        "\n",
        "    def __len__(self):\n",
        "        return len(self.data)\n",
        "\n",
        "    def __getitem__(self, idx):\n",
        "        context, target = self.data[idx]\n",
        "        return torch.tensor(context, dtype=torch.long), torch.tensor(target, dtype=torch.long)"
      ]
    },
    {
      "cell_type": "code",
      "execution_count": null,
      "id": "c03d522c",
      "metadata": {
        "id": "c03d522c"
      },
      "outputs": [],
      "source": [
        "def train_model(model, dataloader, num_epochs, lr, device):\n",
        "    model.to(device)\n",
        "    # TODO Use torch.optim.lr_scheduler to decay learning rate\n",
        "    # TODO See how nn.CrossEntropyLoss is implemented\n",
        "    criterion = nn.CrossEntropyLoss()\n",
        "    optimizer = optim.Adam(model.parameters(), lr=lr)\n",
        "\n",
        "    for epoch in range(num_epochs):\n",
        "        total_loss = 0\n",
        "        for i, (context, target) in enumerate(dataloader):\n",
        "            context, target = context.to(device), target.to(device)\n",
        "            optimizer.zero_grad()\n",
        "            output = model(context)\n",
        "            loss = criterion(output, target)\n",
        "            total_loss += loss.item()\n",
        "            if i % 1000 == 0:\n",
        "                print(f\"Time: {time.strftime('%Y-%m-%d %H:%M:%S')}, Epoch {epoch+1}, Step {i}, Loss: {loss.item():.4f}\")\n",
        "                # Save model snapshot\n",
        "                snapshot_path = f\"cbow_epoch{epoch+1}_step{i}.pt\"\n",
        "                torch.save(model.state_dict(), snapshot_path)\n",
        "                print(f\"Model snapshot saved to {snapshot_path}\")\n",
        "            loss.backward()\n",
        "            optimizer.step()"
      ]
    },
    {
      "cell_type": "code",
      "execution_count": 10,
      "id": "abaf1599",
      "metadata": {
        "id": "abaf1599"
      },
      "outputs": [],
      "source": [
        "# Load and process text\n",
        "with open(corpus_file_path, \"r\") as f:\n",
        "    tokens = tokenize(f.read())\n",
        "\n",
        "# Build vocab\n",
        "word2idx, idx2word = build_vocab(tokens, min_freq=1)\n",
        "\n",
        "# Create dataset and dataloader\n",
        "context_size = 2\n",
        "dataset = CBOWDataset(tokens, word2idx, context_size=context_size)\n",
        "dataloader = DataLoader(dataset, batch_size=32, shuffle=True)"
      ]
    },
    {
      "cell_type": "code",
      "execution_count": 11,
      "id": "3ab07dce",
      "metadata": {
        "colab": {
          "base_uri": "https://localhost:8080/"
        },
        "id": "3ab07dce",
        "outputId": "e8834238-6364-4215-aca2-91d531e497fc"
      },
      "outputs": [
        {
          "data": {
            "text/plain": [
              "531412.59375"
            ]
          },
          "execution_count": 11,
          "metadata": {},
          "output_type": "execute_result"
        }
      ],
      "source": [
        "len(dataset) / 32"
      ]
    },
    {
      "cell_type": "code",
      "execution_count": 12,
      "id": "5aceec3f",
      "metadata": {
        "colab": {
          "base_uri": "https://localhost:8080/"
        },
        "id": "5aceec3f",
        "outputId": "488663a0-6f1e-40c6-97b6-ee20ab3e1864"
      },
      "outputs": [
        {
          "data": {
            "text/plain": [
              "531413"
            ]
          },
          "execution_count": 12,
          "metadata": {},
          "output_type": "execute_result"
        }
      ],
      "source": [
        "len(dataloader)"
      ]
    },
    {
      "cell_type": "code",
      "execution_count": null,
      "id": "226c99b2",
      "metadata": {
        "colab": {
          "base_uri": "https://localhost:8080/"
        },
        "id": "226c99b2",
        "outputId": "f4cfb373-8671-4df1-d177-ec111fca27a5"
      },
      "outputs": [
        {
          "name": "stdout",
          "output_type": "stream",
          "text": [
            "Epoch 1, Step 0, Loss: 12.4242\n",
            "Epoch 1, Step 1000, Loss: 9.1692\n",
            "Epoch 1, Step 2000, Loss: 7.7933\n",
            "Epoch 1, Step 3000, Loss: 8.1644\n",
            "Epoch 1, Step 4000, Loss: 7.3388\n",
            "Epoch 1, Step 5000, Loss: 7.1061\n",
            "Epoch 1, Step 6000, Loss: 8.2516\n",
            "Epoch 1, Step 7000, Loss: 7.8015\n",
            "Epoch 1, Step 8000, Loss: 6.8521\n",
            "Epoch 1, Step 9000, Loss: 8.4640\n",
            "Epoch 1, Step 10000, Loss: 6.0802\n",
            "Epoch 1, Step 11000, Loss: 7.8232\n",
            "Epoch 1, Step 12000, Loss: 8.2532\n",
            "Epoch 1, Step 13000, Loss: 7.3536\n",
            "Epoch 1, Step 14000, Loss: 7.0593\n",
            "Epoch 1, Step 15000, Loss: 6.9970\n",
            "Epoch 1, Step 16000, Loss: 7.0552\n",
            "Epoch 1, Step 17000, Loss: 6.8838\n",
            "Epoch 1, Step 18000, Loss: 7.7295\n",
            "Epoch 1, Step 19000, Loss: 8.1813\n",
            "Epoch 1, Step 20000, Loss: 6.9780\n",
            "Epoch 1, Step 21000, Loss: 8.9604\n",
            "Epoch 1, Step 22000, Loss: 8.8395\n",
            "Epoch 1, Step 23000, Loss: 6.5744\n",
            "Epoch 1, Step 24000, Loss: 7.2382\n",
            "Epoch 1, Step 25000, Loss: 6.9960\n",
            "Epoch 1, Step 26000, Loss: 7.3981\n",
            "Epoch 1, Step 27000, Loss: 6.7376\n",
            "Epoch 1, Step 28000, Loss: 7.7332\n",
            "Epoch 1, Step 29000, Loss: 6.9361\n",
            "Epoch 1, Step 30000, Loss: 6.6176\n",
            "Epoch 1, Step 31000, Loss: 6.5869\n",
            "Epoch 1, Step 32000, Loss: 5.8117\n",
            "Epoch 1, Step 33000, Loss: 7.4210\n",
            "Epoch 1, Step 34000, Loss: 7.5626\n",
            "Epoch 1, Step 35000, Loss: 6.2566\n",
            "Epoch 1, Step 36000, Loss: 9.1434\n",
            "Epoch 1, Step 37000, Loss: 6.4748\n",
            "Epoch 1, Step 38000, Loss: 6.3887\n",
            "Epoch 1, Step 39000, Loss: 7.7793\n",
            "Epoch 1, Step 40000, Loss: 6.6135\n",
            "Epoch 1, Step 41000, Loss: 7.5470\n",
            "Epoch 1, Step 42000, Loss: 7.7042\n",
            "Epoch 1, Step 43000, Loss: 7.8243\n",
            "Epoch 1, Step 44000, Loss: 7.4833\n",
            "Epoch 1, Step 45000, Loss: 7.4249\n",
            "Epoch 1, Step 46000, Loss: 7.1172\n",
            "Epoch 1, Step 47000, Loss: 5.1018\n",
            "Epoch 1, Step 48000, Loss: 6.0032\n",
            "Epoch 1, Step 49000, Loss: 8.0910\n",
            "Epoch 1, Step 50000, Loss: 7.3718\n",
            "Epoch 1, Step 51000, Loss: 5.4468\n",
            "Epoch 1, Step 52000, Loss: 7.1734\n",
            "Epoch 1, Step 53000, Loss: 6.6107\n",
            "Epoch 1, Step 54000, Loss: 6.2163\n",
            "Epoch 1, Step 55000, Loss: 7.4387\n",
            "Epoch 1, Step 56000, Loss: 7.6856\n",
            "Epoch 1, Step 57000, Loss: 8.0184\n",
            "Epoch 1, Step 58000, Loss: 7.8804\n",
            "Epoch 1, Step 59000, Loss: 6.7128\n",
            "Epoch 1, Step 60000, Loss: 6.3803\n",
            "Epoch 1, Step 61000, Loss: 6.6877\n",
            "Epoch 1, Step 62000, Loss: 7.1838\n",
            "Epoch 1, Step 63000, Loss: 6.9880\n",
            "Epoch 1, Step 64000, Loss: 6.9741\n",
            "Epoch 1, Step 65000, Loss: 7.4522\n",
            "Epoch 1, Step 66000, Loss: 7.2965\n",
            "Epoch 1, Step 67000, Loss: 7.3173\n",
            "Epoch 1, Step 68000, Loss: 6.6951\n",
            "Epoch 1, Step 69000, Loss: 6.3900\n",
            "Epoch 1, Step 70000, Loss: 7.4563\n",
            "Epoch 1, Step 71000, Loss: 8.1632\n",
            "Epoch 1, Step 72000, Loss: 6.4951\n",
            "Epoch 1, Step 73000, Loss: 6.9536\n",
            "Epoch 1, Step 74000, Loss: 5.9202\n",
            "Epoch 1, Step 75000, Loss: 7.6542\n",
            "Epoch 1, Step 76000, Loss: 6.8824\n",
            "Epoch 1, Step 77000, Loss: 6.9380\n",
            "Epoch 1, Step 78000, Loss: 8.0323\n",
            "Epoch 1, Step 79000, Loss: 8.1209\n",
            "Epoch 1, Step 80000, Loss: 4.7178\n",
            "Epoch 1, Step 81000, Loss: 6.1215\n",
            "Epoch 1, Step 82000, Loss: 6.2733\n",
            "Epoch 1, Step 83000, Loss: 6.1639\n",
            "Epoch 1, Step 84000, Loss: 7.4616\n",
            "Epoch 1, Step 85000, Loss: 8.2196\n",
            "Epoch 1, Step 86000, Loss: 8.1264\n",
            "Epoch 1, Step 87000, Loss: 6.1344\n",
            "Epoch 1, Step 88000, Loss: 6.1379\n",
            "Epoch 1, Step 89000, Loss: 6.2113\n",
            "Epoch 1, Step 90000, Loss: 8.4425\n",
            "Epoch 1, Step 91000, Loss: 6.8033\n",
            "Epoch 1, Step 92000, Loss: 6.5904\n",
            "Epoch 1, Step 93000, Loss: 8.3835\n",
            "Epoch 1, Step 94000, Loss: 6.9781\n",
            "Epoch 1, Step 95000, Loss: 6.5949\n",
            "Epoch 1, Step 96000, Loss: 8.1258\n",
            "Epoch 1, Step 97000, Loss: 6.0121\n",
            "Epoch 1, Step 98000, Loss: 7.6101\n"
          ]
        }
      ],
      "source": [
        "# Create model and train\n",
        "vocab_size = len(word2idx)\n",
        "embedding_dim = 100\n",
        "model = CBOW(vocab_size, embedding_dim)\n",
        "# TODO Print model\n",
        "\n",
        "train_model(model, dataloader, num_epochs=1, lr=0.001, device=device)"
      ]
    },
    {
      "cell_type": "code",
      "execution_count": null,
      "id": "4cb6257d",
      "metadata": {
        "id": "4cb6257d"
      },
      "outputs": [],
      "source": []
    }
  ],
  "metadata": {
    "accelerator": "GPU",
    "colab": {
      "gpuType": "T4",
      "provenance": []
    },
    "kernelspec": {
      "display_name": "Python 3",
      "name": "python3"
    },
    "language_info": {
      "codemirror_mode": {
        "name": "ipython",
        "version": 3
      },
      "file_extension": ".py",
      "mimetype": "text/x-python",
      "name": "python",
      "nbconvert_exporter": "python",
      "pygments_lexer": "ipython3",
      "version": "3.11.9"
    },
    "widgets": {
      "application/vnd.jupyter.widget-state+json": {
        "0e3e6c3ad730429caf6cb646a1e00704": {
          "model_module": "@jupyter-widgets/controls",
          "model_module_version": "1.5.0",
          "model_name": "HBoxModel",
          "state": {
            "_dom_classes": [],
            "_model_module": "@jupyter-widgets/controls",
            "_model_module_version": "1.5.0",
            "_model_name": "HBoxModel",
            "_view_count": null,
            "_view_module": "@jupyter-widgets/controls",
            "_view_module_version": "1.5.0",
            "_view_name": "HBoxView",
            "box_style": "",
            "children": [
              "IPY_MODEL_7b4c901838d84fd689c6f6d74c487b61",
              "IPY_MODEL_9c5518e72262453e91b2239074b594a4",
              "IPY_MODEL_13acc1a7475d41d1b3ec3526c9fa0058"
            ],
            "layout": "IPY_MODEL_d9e18e840ec74f88b1cdc042116e2e27"
          }
        },
        "13acc1a7475d41d1b3ec3526c9fa0058": {
          "model_module": "@jupyter-widgets/controls",
          "model_module_version": "1.5.0",
          "model_name": "HTMLModel",
          "state": {
            "_dom_classes": [],
            "_model_module": "@jupyter-widgets/controls",
            "_model_module_version": "1.5.0",
            "_model_name": "HTMLModel",
            "_view_count": null,
            "_view_module": "@jupyter-widgets/controls",
            "_view_module_version": "1.5.0",
            "_view_name": "HTMLView",
            "description": "",
            "description_tooltip": null,
            "layout": "IPY_MODEL_5c740ada165847bb922d42baba033dd4",
            "placeholder": "​",
            "style": "IPY_MODEL_2d92be52907442e89bc2efbaf37c2ce6",
            "value": " 100M/100M [00:01&lt;00:00, 79.7MB/s]"
          }
        },
        "2d92be52907442e89bc2efbaf37c2ce6": {
          "model_module": "@jupyter-widgets/controls",
          "model_module_version": "1.5.0",
          "model_name": "DescriptionStyleModel",
          "state": {
            "_model_module": "@jupyter-widgets/controls",
            "_model_module_version": "1.5.0",
            "_model_name": "DescriptionStyleModel",
            "_view_count": null,
            "_view_module": "@jupyter-widgets/base",
            "_view_module_version": "1.2.0",
            "_view_name": "StyleView",
            "description_width": ""
          }
        },
        "2df17dd593a44db1ade6ea70d307a806": {
          "model_module": "@jupyter-widgets/base",
          "model_module_version": "1.2.0",
          "model_name": "LayoutModel",
          "state": {
            "_model_module": "@jupyter-widgets/base",
            "_model_module_version": "1.2.0",
            "_model_name": "LayoutModel",
            "_view_count": null,
            "_view_module": "@jupyter-widgets/base",
            "_view_module_version": "1.2.0",
            "_view_name": "LayoutView",
            "align_content": null,
            "align_items": null,
            "align_self": null,
            "border": null,
            "bottom": null,
            "display": null,
            "flex": null,
            "flex_flow": null,
            "grid_area": null,
            "grid_auto_columns": null,
            "grid_auto_flow": null,
            "grid_auto_rows": null,
            "grid_column": null,
            "grid_gap": null,
            "grid_row": null,
            "grid_template_areas": null,
            "grid_template_columns": null,
            "grid_template_rows": null,
            "height": null,
            "justify_content": null,
            "justify_items": null,
            "left": null,
            "margin": null,
            "max_height": null,
            "max_width": null,
            "min_height": null,
            "min_width": null,
            "object_fit": null,
            "object_position": null,
            "order": null,
            "overflow": null,
            "overflow_x": null,
            "overflow_y": null,
            "padding": null,
            "right": null,
            "top": null,
            "visibility": null,
            "width": null
          }
        },
        "5c740ada165847bb922d42baba033dd4": {
          "model_module": "@jupyter-widgets/base",
          "model_module_version": "1.2.0",
          "model_name": "LayoutModel",
          "state": {
            "_model_module": "@jupyter-widgets/base",
            "_model_module_version": "1.2.0",
            "_model_name": "LayoutModel",
            "_view_count": null,
            "_view_module": "@jupyter-widgets/base",
            "_view_module_version": "1.2.0",
            "_view_name": "LayoutView",
            "align_content": null,
            "align_items": null,
            "align_self": null,
            "border": null,
            "bottom": null,
            "display": null,
            "flex": null,
            "flex_flow": null,
            "grid_area": null,
            "grid_auto_columns": null,
            "grid_auto_flow": null,
            "grid_auto_rows": null,
            "grid_column": null,
            "grid_gap": null,
            "grid_row": null,
            "grid_template_areas": null,
            "grid_template_columns": null,
            "grid_template_rows": null,
            "height": null,
            "justify_content": null,
            "justify_items": null,
            "left": null,
            "margin": null,
            "max_height": null,
            "max_width": null,
            "min_height": null,
            "min_width": null,
            "object_fit": null,
            "object_position": null,
            "order": null,
            "overflow": null,
            "overflow_x": null,
            "overflow_y": null,
            "padding": null,
            "right": null,
            "top": null,
            "visibility": null,
            "width": null
          }
        },
        "7b4c901838d84fd689c6f6d74c487b61": {
          "model_module": "@jupyter-widgets/controls",
          "model_module_version": "1.5.0",
          "model_name": "HTMLModel",
          "state": {
            "_dom_classes": [],
            "_model_module": "@jupyter-widgets/controls",
            "_model_module_version": "1.5.0",
            "_model_name": "HTMLModel",
            "_view_count": null,
            "_view_module": "@jupyter-widgets/controls",
            "_view_module_version": "1.5.0",
            "_view_name": "HTMLView",
            "description": "",
            "description_tooltip": null,
            "layout": "IPY_MODEL_2df17dd593a44db1ade6ea70d307a806",
            "placeholder": "​",
            "style": "IPY_MODEL_e74644fd4df04c698c346b3d72a9db2f",
            "value": "text8: 100%"
          }
        },
        "8a8660462e04445e8be5a9d91ed12d57": {
          "model_module": "@jupyter-widgets/controls",
          "model_module_version": "1.5.0",
          "model_name": "ProgressStyleModel",
          "state": {
            "_model_module": "@jupyter-widgets/controls",
            "_model_module_version": "1.5.0",
            "_model_name": "ProgressStyleModel",
            "_view_count": null,
            "_view_module": "@jupyter-widgets/base",
            "_view_module_version": "1.2.0",
            "_view_name": "StyleView",
            "bar_color": null,
            "description_width": ""
          }
        },
        "9c5518e72262453e91b2239074b594a4": {
          "model_module": "@jupyter-widgets/controls",
          "model_module_version": "1.5.0",
          "model_name": "FloatProgressModel",
          "state": {
            "_dom_classes": [],
            "_model_module": "@jupyter-widgets/controls",
            "_model_module_version": "1.5.0",
            "_model_name": "FloatProgressModel",
            "_view_count": null,
            "_view_module": "@jupyter-widgets/controls",
            "_view_module_version": "1.5.0",
            "_view_name": "ProgressView",
            "bar_style": "success",
            "description": "",
            "description_tooltip": null,
            "layout": "IPY_MODEL_d5b9b118033e49de86e75ebc186b87c1",
            "max": 100000000,
            "min": 0,
            "orientation": "horizontal",
            "style": "IPY_MODEL_8a8660462e04445e8be5a9d91ed12d57",
            "value": 100000000
          }
        },
        "d5b9b118033e49de86e75ebc186b87c1": {
          "model_module": "@jupyter-widgets/base",
          "model_module_version": "1.2.0",
          "model_name": "LayoutModel",
          "state": {
            "_model_module": "@jupyter-widgets/base",
            "_model_module_version": "1.2.0",
            "_model_name": "LayoutModel",
            "_view_count": null,
            "_view_module": "@jupyter-widgets/base",
            "_view_module_version": "1.2.0",
            "_view_name": "LayoutView",
            "align_content": null,
            "align_items": null,
            "align_self": null,
            "border": null,
            "bottom": null,
            "display": null,
            "flex": null,
            "flex_flow": null,
            "grid_area": null,
            "grid_auto_columns": null,
            "grid_auto_flow": null,
            "grid_auto_rows": null,
            "grid_column": null,
            "grid_gap": null,
            "grid_row": null,
            "grid_template_areas": null,
            "grid_template_columns": null,
            "grid_template_rows": null,
            "height": null,
            "justify_content": null,
            "justify_items": null,
            "left": null,
            "margin": null,
            "max_height": null,
            "max_width": null,
            "min_height": null,
            "min_width": null,
            "object_fit": null,
            "object_position": null,
            "order": null,
            "overflow": null,
            "overflow_x": null,
            "overflow_y": null,
            "padding": null,
            "right": null,
            "top": null,
            "visibility": null,
            "width": null
          }
        },
        "d9e18e840ec74f88b1cdc042116e2e27": {
          "model_module": "@jupyter-widgets/base",
          "model_module_version": "1.2.0",
          "model_name": "LayoutModel",
          "state": {
            "_model_module": "@jupyter-widgets/base",
            "_model_module_version": "1.2.0",
            "_model_name": "LayoutModel",
            "_view_count": null,
            "_view_module": "@jupyter-widgets/base",
            "_view_module_version": "1.2.0",
            "_view_name": "LayoutView",
            "align_content": null,
            "align_items": null,
            "align_self": null,
            "border": null,
            "bottom": null,
            "display": null,
            "flex": null,
            "flex_flow": null,
            "grid_area": null,
            "grid_auto_columns": null,
            "grid_auto_flow": null,
            "grid_auto_rows": null,
            "grid_column": null,
            "grid_gap": null,
            "grid_row": null,
            "grid_template_areas": null,
            "grid_template_columns": null,
            "grid_template_rows": null,
            "height": null,
            "justify_content": null,
            "justify_items": null,
            "left": null,
            "margin": null,
            "max_height": null,
            "max_width": null,
            "min_height": null,
            "min_width": null,
            "object_fit": null,
            "object_position": null,
            "order": null,
            "overflow": null,
            "overflow_x": null,
            "overflow_y": null,
            "padding": null,
            "right": null,
            "top": null,
            "visibility": null,
            "width": null
          }
        },
        "e74644fd4df04c698c346b3d72a9db2f": {
          "model_module": "@jupyter-widgets/controls",
          "model_module_version": "1.5.0",
          "model_name": "DescriptionStyleModel",
          "state": {
            "_model_module": "@jupyter-widgets/controls",
            "_model_module_version": "1.5.0",
            "_model_name": "DescriptionStyleModel",
            "_view_count": null,
            "_view_module": "@jupyter-widgets/base",
            "_view_module_version": "1.2.0",
            "_view_name": "StyleView",
            "description_width": ""
          }
        }
      }
    }
  },
  "nbformat": 4,
  "nbformat_minor": 5
}
