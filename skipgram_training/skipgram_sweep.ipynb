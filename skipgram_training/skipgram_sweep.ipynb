{
  "cells": [
    {
      "cell_type": "code",
      "execution_count": null,
      "metadata": {
        "colab": {
          "base_uri": "https://localhost:8080/"
        },
        "id": "_XjIAJnlri0x",
        "outputId": "d7116910-476e-472e-d4e3-e147d901aea4"
      },
      "outputs": [],
      "source": [
        "!wandb login"
      ]
    },
    {
      "cell_type": "code",
      "execution_count": null,
      "metadata": {
        "colab": {
          "base_uri": "https://localhost:8080/"
        },
        "id": "j1MWIJ2di2im",
        "outputId": "fb84b4a1-e34e-4831-a7de-2441f33647fb"
      },
      "outputs": [],
      "source": [
        "!git clone https://github.com/tyronen/recurrent-rebels.git\n",
        "!git checkout skipgram"
      ]
    },
    {
      "cell_type": "code",
      "execution_count": null,
      "metadata": {
        "colab": {
          "base_uri": "https://localhost:8080/"
        },
        "id": "AOOQyB4Ci8Rt",
        "outputId": "c139d2fb-f0bf-4b81-9376-ab101b6d2963"
      },
      "outputs": [],
      "source": [
        "%cd /content/recurrent-rebels"
      ]
    },
    {
      "cell_type": "code",
      "execution_count": null,
      "metadata": {
        "colab": {
          "base_uri": "https://localhost:8080/"
        },
        "id": "169u7tSajAhe",
        "outputId": "37b78402-1f73-4632-e290-fa14a8761caa"
      },
      "outputs": [],
      "source": [
        "!python skipgram_training/training_sweep.py"
      ]
    }
  ],
  "metadata": {
    "accelerator": "GPU",
    "colab": {
      "gpuType": "T4",
      "provenance": []
    },
    "kernelspec": {
      "display_name": "Python 3",
      "name": "python3"
    },
    "language_info": {
      "name": "python"
    }
  },
  "nbformat": 4,
  "nbformat_minor": 0
}
